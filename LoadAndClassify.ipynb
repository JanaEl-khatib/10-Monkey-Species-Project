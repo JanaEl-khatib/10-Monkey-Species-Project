{
 "cells": [
  {
   "cell_type": "code",
   "execution_count": null,
   "id": "15aa1402",
   "metadata": {},
   "outputs": [],
   "source": [
    "import torchvision\n",
    "import torch\n",
    "import torchvision.transforms as transforms\n",
    "import PIL.Image as Image"
   ]
  },
  {
   "cell_type": "code",
   "execution_count": null,
   "id": "6a024fd9",
   "metadata": {},
   "outputs": [],
   "source": [
    "# declare the classes of monkeys for the model to choose from\n",
    "classes = [\n",
    "    \"Mantled Howler\",\n",
    "    \"Patas Monkey\",\n",
    "    \"Bald Uakari\",\n",
    "    \"Japanese Macaque\",\n",
    "    \"Pygmy Marmoset\",\n",
    "    \"White Headed Capuchin\",\n",
    "    \"Silvery Marmoset\",\n",
    "    \"Common Squirrel Monkey\",\n",
    "    \"Black Headed Night Monkey\",\n",
    "    \"Nilgiri Langur\",\n",
    "]"
   ]
  },
  {
   "cell_type": "code",
   "execution_count": null,
   "id": "09d702d6",
   "metadata": {},
   "outputs": [],
   "source": [
    "# load the model file\n",
    "model = torch.load('best_model_pth')"
   ]
  },
  {
   "cell_type": "code",
   "execution_count": null,
   "id": "649252bd",
   "metadata": {},
   "outputs": [],
   "source": [
    "# variables for normalization\n",
    "mean = [0.4363, 0.4328, 0.3291]\n",
    "std = [0.2129, 0.2075, 0.2038]\n",
    "\n",
    "image_transforms = transforms.Compose([\n",
    "    # 224 x 224 pixel image sizes only\n",
    "    transforms.Resize((224, 224)),\n",
    "    transforms.ToTensor(),\n",
    "    transforms.Normalize(torch.Tensor(mean), torch.Tensor(std))\n",
    "])"
   ]
  },
  {
   "cell_type": "code",
   "execution_count": null,
   "id": "5672656f",
   "metadata": {},
   "outputs": [],
   "source": [
    "# classify the image\n",
    "def classify(model, image_transforms, image_path, classes):\n",
    "    # make sure it's in the evaluation mode\n",
    "    model = model.eval()\n",
    "    # open the image\n",
    "    image = Image.open(image_path)\n",
    "    # transform the image\n",
    "    image = image_transforms(image).float()\n",
    "    # change the shape of the image\n",
    "    image = image.unsqueeze(0)\n",
    "    \n",
    "    # parse the image through the model\n",
    "    output = model(image)\n",
    "    _, predicted = torch.max(output.data, 1)\n",
    "    \n",
    "    # print the predicted classification from the array choices\n",
    "    print(classes[predicted.item()])"
   ]
  }
 ],
 "metadata": {
  "kernelspec": {
   "display_name": "Python 3",
   "language": "python",
   "name": "python3"
  },
  "language_info": {
   "name": "python",
   "version": "3.12.5"
  }
 },
 "nbformat": 4,
 "nbformat_minor": 5
}
